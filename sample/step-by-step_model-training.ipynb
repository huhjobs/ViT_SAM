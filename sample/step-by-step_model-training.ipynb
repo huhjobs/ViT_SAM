{
 "cells": [
  {
   "cell_type": "markdown",
   "metadata": {
    "id": "Eb2rUMiBwDO1"
   },
   "source": [
    "# 1. Module Import"
   ]
  },
  {
   "cell_type": "code",
   "execution_count": 1,
   "metadata": {
    "executionInfo": {
     "elapsed": 689,
     "status": "ok",
     "timestamp": 1670176652525,
     "user": {
      "displayName": "Jung Eun Huh",
      "userId": "03640047991845070515"
     },
     "user_tz": 0
    },
    "id": "w8f3Vv8guMlO"
   },
   "outputs": [],
   "source": [
    "import os\n",
    "import numpy as np\n",
    "import random\n",
    "\n",
    "import matplotlib.pylab as plt\n",
    "\n",
    "from sklearn.model_selection import train_test_split\n",
    "from sklearn.metrics import confusion_matrix, classification_report, roc_curve, auc\n",
    "\n",
    "import seaborn as sns\n",
    "\n",
    "import torch\n",
    "import torch.nn as nn  \n",
    "from torch.utils import data\n",
    "\n",
    "import torchvision\n",
    "from torchvision import transforms\n"
   ]
  },
  {
   "cell_type": "code",
   "execution_count": 2,
   "metadata": {
    "executionInfo": {
     "elapsed": 1,
     "status": "ok",
     "timestamp": 1670176654265,
     "user": {
      "displayName": "Jung Eun Huh",
      "userId": "03640047991845070515"
     },
     "user_tz": 0
    },
    "id": "mo5sNIsQvPfb"
   },
   "outputs": [],
   "source": [
    "import warnings\n",
    "warnings.filterwarnings('ignore')"
   ]
  },
  {
   "cell_type": "code",
   "execution_count": 3,
   "metadata": {
    "colab": {
     "base_uri": "https://localhost:8080/"
    },
    "executionInfo": {
     "elapsed": 6,
     "status": "ok",
     "timestamp": 1670176662347,
     "user": {
      "displayName": "Jung Eun Huh",
      "userId": "03640047991845070515"
     },
     "user_tz": 0
    },
    "id": "58trEXNIwXkw",
    "outputId": "b77926db-ccfd-4ca6-8cbc-a5acc64e230c"
   },
   "outputs": [
    {
     "name": "stdout",
     "output_type": "stream",
     "text": [
      "Using PyTorchversion: 1.8.0.dev20201207+cu101 Device: cuda\n",
      "Number of cuda available: 3\n"
     ]
    }
   ],
   "source": [
    "if torch.cuda.is_available():\n",
    "    DEVICE = torch.device('cuda')\n",
    "else: DEVICE = torch.device('cpu')\n",
    "    \n",
    "print('Using PyTorchversion:', torch.__version__, 'Device:', DEVICE)\n",
    "print(f'Number of cuda available: {torch.cuda.device_count()}')"
   ]
  },
  {
   "cell_type": "code",
   "execution_count": 4,
   "metadata": {
    "colab": {
     "base_uri": "https://localhost:8080/"
    },
    "executionInfo": {
     "elapsed": 5,
     "status": "ok",
     "timestamp": 1670176662347,
     "user": {
      "displayName": "Jung Eun Huh",
      "userId": "03640047991845070515"
     },
     "user_tz": 0
    },
    "id": "yhlSqYsBidhP",
    "outputId": "88ac13d3-bcfe-458a-93c4-a531f1a99fcc"
   },
   "outputs": [
    {
     "name": "stdout",
     "output_type": "stream",
     "text": [
      "Python 3.6.9\n"
     ]
    }
   ],
   "source": [
    "!python --version"
   ]
  },
  {
   "cell_type": "code",
   "execution_count": 5,
   "metadata": {
    "colab": {
     "base_uri": "https://localhost:8080/",
     "height": 35
    },
    "executionInfo": {
     "elapsed": 5,
     "status": "ok",
     "timestamp": 1670176668914,
     "user": {
      "displayName": "Jung Eun Huh",
      "userId": "03640047991845070515"
     },
     "user_tz": 0
    },
    "id": "qmgkAkgmwolH",
    "outputId": "c392f57a-0a92-4663-aa12-ee4723442e0b"
   },
   "outputs": [
    {
     "data": {
      "text/plain": [
       "'/home/ViT_SAM'"
      ]
     },
     "execution_count": 5,
     "metadata": {},
     "output_type": "execute_result"
    }
   ],
   "source": [
    "os.getcwd()"
   ]
  },
  {
   "cell_type": "code",
   "execution_count": 6,
   "metadata": {
    "id": "TO6PVc5eGTAy"
   },
   "outputs": [],
   "source": [
    "DATA_DIR = './Data/'"
   ]
  },
  {
   "cell_type": "code",
   "execution_count": 7,
   "metadata": {
    "executionInfo": {
     "elapsed": 2,
     "status": "ok",
     "timestamp": 1670176664221,
     "user": {
      "displayName": "Jung Eun Huh",
      "userId": "03640047991845070515"
     },
     "user_tz": 0
    },
    "id": "h4TsDwlfwjhc"
   },
   "outputs": [],
   "source": [
    "IMG_SIZE = 224\n",
    "\n",
    "CLASS_NUM = 2\n",
    "\n",
    "EPOCHS = 50\n",
    "LR = 0.001\n",
    "BATCH_SIZE = 32\n",
    "TRAIN_PATIENCE = 5"
   ]
  },
  {
   "cell_type": "markdown",
   "metadata": {
    "id": "nThwPfUB4qRW"
   },
   "source": [
    "# 4. Load Image"
   ]
  },
  {
   "cell_type": "code",
   "execution_count": 8,
   "metadata": {
    "colab": {
     "base_uri": "https://localhost:8080/"
    },
    "executionInfo": {
     "elapsed": 3254,
     "status": "ok",
     "timestamp": 1670172995907,
     "user": {
      "displayName": "Jung Eun Huh",
      "userId": "03640047991845070515"
     },
     "user_tz": 0
    },
    "id": "GVhgqtTskPDM",
    "outputId": "8c276f58-f5e3-4247-8d07-9bd6bb87e8b8"
   },
   "outputs": [
    {
     "data": {
      "text/plain": [
       "((8851, 224, 224, 3), (6012, 224, 224, 3))"
      ]
     },
     "execution_count": 8,
     "metadata": {},
     "output_type": "execute_result"
    }
   ],
   "source": [
    "resized_normal_arr = np.load(f'./Data/{IMG_SIZE}_normal_arr.npy')\n",
    "resized_opacity_arr = np.load(f'./Data/{IMG_SIZE}_opacity_arr.npy')\n",
    "\n",
    "resized_normal_arr.shape, resized_opacity_arr.shape"
   ]
  },
  {
   "cell_type": "markdown",
   "metadata": {
    "id": "ozG9_sSi7HRF"
   },
   "source": [
    "# 5. Data Preprocessing"
   ]
  },
  {
   "cell_type": "code",
   "execution_count": 9,
   "metadata": {
    "executionInfo": {
     "elapsed": 634,
     "status": "ok",
     "timestamp": 1670158832040,
     "user": {
      "displayName": "Jung Eun Huh",
      "userId": "03640047991845070515"
     },
     "user_tz": 0
    },
    "id": "WwfrIYyC-nyg"
   },
   "outputs": [],
   "source": [
    "# X_data = resized_normal_arr + resized_opacity_arr\n",
    "X_data = np.concatenate((resized_normal_arr, resized_opacity_arr))\n",
    "\n",
    "y_data = []\n",
    "\n",
    "for i in range(len(resized_normal_arr)):\n",
    "    y_data.append(0)\n",
    "    \n",
    "for i in range(len(resized_opacity_arr)):\n",
    "    y_data.append(1)"
   ]
  },
  {
   "cell_type": "code",
   "execution_count": 10,
   "metadata": {
    "colab": {
     "base_uri": "https://localhost:8080/"
    },
    "executionInfo": {
     "elapsed": 826,
     "status": "ok",
     "timestamp": 1670158832864,
     "user": {
      "displayName": "Jung Eun Huh",
      "userId": "03640047991845070515"
     },
     "user_tz": 0
    },
    "id": "A3EfKOht-p0s",
    "outputId": "c3f73641-d678-4754-c3ee-bd128ac5d181"
   },
   "outputs": [
    {
     "data": {
      "text/plain": [
       "((14863, 224, 224, 3), (14863,))"
      ]
     },
     "execution_count": 10,
     "metadata": {},
     "output_type": "execute_result"
    }
   ],
   "source": [
    "X_data = np.array(X_data)\n",
    "y_data = np.array(y_data)\n",
    "\n",
    "X_data.shape, y_data.shape"
   ]
  },
  {
   "cell_type": "markdown",
   "metadata": {
    "id": "86AVifMp-z0O"
   },
   "source": [
    "# 6. Balanced Train/Val/Test Split 8:1:1"
   ]
  },
  {
   "cell_type": "code",
   "execution_count": 11,
   "metadata": {
    "executionInfo": {
     "elapsed": 1189,
     "status": "ok",
     "timestamp": 1670158834051,
     "user": {
      "displayName": "Jung Eun Huh",
      "userId": "03640047991845070515"
     },
     "user_tz": 0
    },
    "id": "kcsWQzgu-8XO"
   },
   "outputs": [],
   "source": [
    "X_train, X_test, y_train, y_test = train_test_split(X_data, y_data, test_size=0.1, random_state = 71, stratify = y_data)\n",
    "X_train, X_val, y_train, y_val = train_test_split(X_train, y_train, test_size=1/9, random_state = 71, stratify = y_train)"
   ]
  },
  {
   "cell_type": "code",
   "execution_count": 12,
   "metadata": {
    "colab": {
     "base_uri": "https://localhost:8080/"
    },
    "executionInfo": {
     "elapsed": 9,
     "status": "ok",
     "timestamp": 1670158834052,
     "user": {
      "displayName": "Jung Eun Huh",
      "userId": "03640047991845070515"
     },
     "user_tz": 0
    },
    "id": "dGgGiNWK-9rR",
    "outputId": "d93b5312-8dc7-4b9b-a8e3-2e74897e8b07"
   },
   "outputs": [
    {
     "data": {
      "text/plain": [
       "(11889, 11889, 1487, 1487, 1487, 1487)"
      ]
     },
     "execution_count": 12,
     "metadata": {},
     "output_type": "execute_result"
    }
   ],
   "source": [
    "len(X_train), len(y_train),\\\n",
    "len(X_val), len(y_val),\\\n",
    "len(X_test), len(y_test)"
   ]
  },
  {
   "cell_type": "code",
   "execution_count": 13,
   "metadata": {
    "colab": {
     "base_uri": "https://localhost:8080/"
    },
    "executionInfo": {
     "elapsed": 7,
     "status": "ok",
     "timestamp": 1670158834052,
     "user": {
      "displayName": "Jung Eun Huh",
      "userId": "03640047991845070515"
     },
     "user_tz": 0
    },
    "id": "emfmK_Gm_DO9",
    "outputId": "f3882358-4b9a-4f5f-b488-305db0efdb22"
   },
   "outputs": [
    {
     "data": {
      "text/plain": [
       "(1.4722395508421708, 1.4700996677740863, 1.4742096505823628)"
      ]
     },
     "execution_count": 13,
     "metadata": {},
     "output_type": "execute_result"
    }
   ],
   "source": [
    "np.array(np.unique(y_train, return_counts=True)).T[0][1]/np.array(np.unique(y_train, return_counts=True)).T[1][1],\\\n",
    "np.array(np.unique(y_val, return_counts=True)).T[0][1]/np.array(np.unique(y_val, return_counts=True)).T[1][1],\\\n",
    "np.array(np.unique(y_test, return_counts=True)).T[0][1]/np.array(np.unique(y_test, return_counts=True)).T[1][1]"
   ]
  },
  {
   "cell_type": "markdown",
   "metadata": {
    "id": "ogi4tdKt_Efj"
   },
   "source": [
    "# 7. Data Loader"
   ]
  },
  {
   "cell_type": "code",
   "execution_count": 14,
   "metadata": {
    "executionInfo": {
     "elapsed": 636,
     "status": "ok",
     "timestamp": 1670158834684,
     "user": {
      "displayName": "Jung Eun Huh",
      "userId": "03640047991845070515"
     },
     "user_tz": 0
    },
    "id": "xR4pO7DP_K0z"
   },
   "outputs": [],
   "source": [
    "class Dataset(data.Dataset):\n",
    "    \n",
    "    def __init__(self, images, labels, transform=None):\n",
    "        self.images = images\n",
    "        self.labels = labels\n",
    "        self.transform = transform\n",
    "    \n",
    "    def __getitem__(self, index):\n",
    "        image = self.images[index]\n",
    "        label = int(self.labels[index])\n",
    "        \n",
    "        if self.transform is not None:\n",
    "            image = self.transform(image)\n",
    "            \n",
    "        return image, label\n",
    "    \n",
    "    def __len__(self):\n",
    "        return len(self.images)"
   ]
  },
  {
   "cell_type": "code",
   "execution_count": 15,
   "metadata": {
    "executionInfo": {
     "elapsed": 4,
     "status": "ok",
     "timestamp": 1670158834684,
     "user": {
      "displayName": "Jung Eun Huh",
      "userId": "03640047991845070515"
     },
     "user_tz": 0
    },
    "id": "yMZJbd2o_L67"
   },
   "outputs": [],
   "source": [
    "train_dataset = Dataset(X_train, y_train, transform = transforms.ToTensor())\n",
    "val_dataset = Dataset(X_val, y_val, transform = transforms.ToTensor())\n",
    "test_dataset = Dataset(X_test, y_test, transform = transforms.ToTensor())\n",
    "\n",
    "train_loader = torch.utils.data.DataLoader(dataset = train_dataset,\n",
    "                                           batch_size = BATCH_SIZE,\n",
    "                                          shuffle = True)   \n",
    "val_loader = torch.utils.data.DataLoader(dataset = val_dataset,\n",
    "                                           batch_size = BATCH_SIZE,\n",
    "                                          shuffle = False)\n",
    "test_loader = torch.utils.data.DataLoader(dataset = test_dataset,\n",
    "                                           batch_size = BATCH_SIZE,\n",
    "                                          shuffle = False)"
   ]
  },
  {
   "cell_type": "markdown",
   "metadata": {
    "id": "vQsp746L_NTe"
   },
   "source": [
    "# 8. Check Data (SKIP)"
   ]
  },
  {
   "cell_type": "code",
   "execution_count": 20,
   "metadata": {
    "colab": {
     "base_uri": "https://localhost:8080/"
    },
    "collapsed": true,
    "executionInfo": {
     "elapsed": 3,
     "status": "ok",
     "timestamp": 1670145151743,
     "user": {
      "displayName": "Jung Eun Huh",
      "userId": "03640047991845070515"
     },
     "user_tz": 0
    },
    "id": "4qtFOqaJ_PeB",
    "jupyter": {
     "outputs_hidden": true,
     "source_hidden": true
    },
    "outputId": "2b967cd3-1b10-4960-f7d1-e7d1761666f3"
   },
   "outputs": [
    {
     "name": "stdout",
     "output_type": "stream",
     "text": [
      "372\n",
      "X_train: torch.Size([32, 3, 224, 224]) type: torch.FloatTensor\n",
      "y_train: torch.Size([32]) type: torch.LongTensor\n"
     ]
    }
   ],
   "source": [
    "print(len(train_loader))\n",
    "\n",
    "for (X_train, y_train) in train_loader:\n",
    "    print('X_train:', X_train.size(), 'type:', X_train.type())\n",
    "    print('y_train:', y_train.size(), 'type:', y_train.type())\n",
    "    break"
   ]
  },
  {
   "cell_type": "code",
   "execution_count": 21,
   "metadata": {
    "colab": {
     "base_uri": "https://localhost:8080/"
    },
    "collapsed": true,
    "executionInfo": {
     "elapsed": 2,
     "status": "ok",
     "timestamp": 1670145151743,
     "user": {
      "displayName": "Jung Eun Huh",
      "userId": "03640047991845070515"
     },
     "user_tz": 0
    },
    "id": "iK1JRVZn_QgE",
    "jupyter": {
     "outputs_hidden": true,
     "source_hidden": true
    },
    "outputId": "a0640925-c238-455e-9e85-e46916dd777c"
   },
   "outputs": [
    {
     "name": "stdout",
     "output_type": "stream",
     "text": [
      "47\n",
      "X_train: torch.Size([32, 3, 224, 224]) type: torch.FloatTensor\n",
      "y_train: torch.Size([32]) type: torch.LongTensor\n"
     ]
    }
   ],
   "source": [
    "print(len(val_loader))\n",
    "\n",
    "for (X_val, y_val) in val_loader:\n",
    "    print('X_train:', X_val.size(), 'type:', X_val.type())\n",
    "    print('y_train:', y_val.size(), 'type:', y_val.type())\n",
    "    break"
   ]
  },
  {
   "cell_type": "code",
   "execution_count": 22,
   "metadata": {
    "colab": {
     "base_uri": "https://localhost:8080/"
    },
    "collapsed": true,
    "executionInfo": {
     "elapsed": 2,
     "status": "ok",
     "timestamp": 1670145152046,
     "user": {
      "displayName": "Jung Eun Huh",
      "userId": "03640047991845070515"
     },
     "user_tz": 0
    },
    "id": "3im3OCZh_Rwo",
    "jupyter": {
     "outputs_hidden": true,
     "source_hidden": true
    },
    "outputId": "d8bb0aca-3777-4213-bf7e-c978cebe4cf7"
   },
   "outputs": [
    {
     "name": "stdout",
     "output_type": "stream",
     "text": [
      "47\n",
      "X_train: torch.Size([32, 3, 224, 224]) type: torch.FloatTensor\n",
      "y_train: torch.Size([32]) type: torch.LongTensor\n"
     ]
    }
   ],
   "source": [
    "print(len(test_loader))\n",
    "\n",
    "for (X_test, y_test) in test_loader:\n",
    "    print('X_train:', X_test.size(), 'type:', X_test.type())\n",
    "    print('y_train:', y_test.size(), 'type:', y_test.type())\n",
    "    break"
   ]
  },
  {
   "cell_type": "markdown",
   "metadata": {
    "id": "23U0J_tK_XGv"
   },
   "source": [
    "# 9. Load Architectures  (SKIP)"
   ]
  },
  {
   "cell_type": "code",
   "execution_count": 46,
   "metadata": {
    "colab": {
     "base_uri": "https://localhost:8080/"
    },
    "collapsed": true,
    "executionInfo": {
     "elapsed": 418,
     "status": "ok",
     "timestamp": 1670140335455,
     "user": {
      "displayName": "Jung Eun Huh",
      "userId": "03640047991845070515"
     },
     "user_tz": 0
    },
    "id": "FBNol58H_biu",
    "jupyter": {
     "outputs_hidden": true,
     "source_hidden": true
    },
    "outputId": "687e3551-8cf0-4603-b1f3-8a00933191f9"
   },
   "outputs": [
    {
     "data": {
      "text/plain": [
       "Sequential(\n",
       "  (0): Linear(in_features=2048, out_features=2, bias=True)\n",
       "  (1): Softmax(dim=None)\n",
       ")"
      ]
     },
     "execution_count": 46,
     "metadata": {},
     "output_type": "execute_result"
    }
   ],
   "source": [
    "# densenet = torchvision.models.densenet121(pretrained=False)\n",
    "resnet = torchvision.models.resnet50(pretrained=False)\n",
    "\n",
    "num_ftrs = resnet.fc.in_features\n",
    "resnet.fc = nn.Linear(num_ftrs,CLASS_NUM)\n",
    "resnet.fc = nn.Sequential(resnet.fc, nn.Softmax(),)\n",
    "\n",
    "# resnet= nn.DataParallel(resnet)\n",
    "model = resnet.to(DEVICE)\n",
    "\n",
    "resnet.fc"
   ]
  },
  {
   "cell_type": "code",
   "execution_count": 47,
   "metadata": {
    "colab": {
     "base_uri": "https://localhost:8080/"
    },
    "collapsed": true,
    "executionInfo": {
     "elapsed": 1737,
     "status": "ok",
     "timestamp": 1670140339235,
     "user": {
      "displayName": "Jung Eun Huh",
      "userId": "03640047991845070515"
     },
     "user_tz": 0
    },
    "id": "igmzXf6rFqPn",
    "jupyter": {
     "outputs_hidden": true,
     "source_hidden": true
    },
    "outputId": "4b8c3f18-3316-4fb8-cf04-3fbab8fe2641"
   },
   "outputs": [
    {
     "data": {
      "text/plain": [
       "Sequential(\n",
       "  (0): Linear(in_features=768, out_features=2, bias=True)\n",
       "  (1): Softmax(dim=None)\n",
       ")"
      ]
     },
     "execution_count": 47,
     "metadata": {},
     "output_type": "execute_result"
    }
   ],
   "source": [
    "vit = torchvision.models.vit_b_16()\n",
    "\n",
    "num_ftrs = vit.heads.head.in_features\n",
    "vit.heads.head = nn.Linear(num_ftrs,CLASS_NUM)\n",
    "vit.heads = nn.Sequential(vit.heads.head, nn.Softmax(),)\n",
    "\n",
    "model = vit.to(DEVICE)\n",
    "\n",
    "vit.heads"
   ]
  },
  {
   "cell_type": "markdown",
   "metadata": {
    "id": "BYe0zLuQ_gdd"
   },
   "source": [
    "# 10. Model Setting  (SKIP)"
   ]
  },
  {
   "cell_type": "code",
   "execution_count": 48,
   "metadata": {
    "executionInfo": {
     "elapsed": 366,
     "status": "ok",
     "timestamp": 1670140349639,
     "user": {
      "displayName": "Jung Eun Huh",
      "userId": "03640047991845070515"
     },
     "user_tz": 0
    },
    "id": "lDN5SDTdAG5A",
    "jupyter": {
     "source_hidden": true
    }
   },
   "outputs": [],
   "source": [
    "optimizer = torch.optim.Adam(model.parameters(), lr = LR)\n",
    "criterion = nn.CrossEntropyLoss()"
   ]
  },
  {
   "cell_type": "markdown",
   "metadata": {
    "id": "yGxlSaFMACMC",
    "jupyter": {
     "source_hidden": true
    }
   },
   "source": [
    "## SAM"
   ]
  },
  {
   "cell_type": "code",
   "execution_count": null,
   "metadata": {
    "id": "FLY0cp8qAS6L",
    "jupyter": {
     "source_hidden": true
    }
   },
   "outputs": [],
   "source": [
    "from sampytorch.sam import SAMSGD     # !git clone https://github.com/moskomule/sam.pytorch.git\n",
    "\n",
    "optimizer = SAMSGD(model.parameters(),lr=LR, rho=0.05) # -- for SGD\n",
    "criterion = nn.CrossEntropyLoss()"
   ]
  },
  {
   "cell_type": "markdown",
   "metadata": {
    "id": "f6pmnjVSATqf"
   },
   "source": [
    "# 12. Define Training Function"
   ]
  },
  {
   "cell_type": "code",
   "execution_count": 16,
   "metadata": {
    "executionInfo": {
     "elapsed": 453,
     "status": "ok",
     "timestamp": 1670176754455,
     "user": {
      "displayName": "Jung Eun Huh",
      "userId": "03640047991845070515"
     },
     "user_tz": 0
    },
    "id": "eC-eNSa7AaOb"
   },
   "outputs": [],
   "source": [
    "# this function is used during training process, to calculation the loss and accuracy\n",
    "\n",
    "class AverageMeter(object):\n",
    "    def __init__(self):\n",
    "        self.reset()\n",
    "\n",
    "    def reset(self):\n",
    "        self.val = 0\n",
    "        self.avg = 0\n",
    "        self.sum = 0\n",
    "        self.count = 0\n",
    "\n",
    "    def update(self, val, n=1):\n",
    "        self.val = val\n",
    "        self.sum += val * n\n",
    "        self.count += n\n",
    "        self.avg = self.sum / self.count"
   ]
  },
  {
   "cell_type": "code",
   "execution_count": 17,
   "metadata": {
    "executionInfo": {
     "elapsed": 4,
     "status": "ok",
     "timestamp": 1670158834685,
     "user": {
      "displayName": "Jung Eun Huh",
      "userId": "03640047991845070515"
     },
     "user_tz": 0
    },
    "id": "rh4B0GTQAczr"
   },
   "outputs": [],
   "source": [
    "def train(sam, model, train_loader, Epoch, optimizer, log_interval):\n",
    "    model.train()                                                 # assign train mode to the model\n",
    "    \n",
    "    train_loss = AverageMeter()\n",
    "    train_acc = AverageMeter()\n",
    "    \n",
    "    if sam == False:\n",
    "      for batch_idx, (image, label) in enumerate(train_loader):\n",
    "          image = image.to(DEVICE)\n",
    "          label = label.to(DEVICE)\n",
    "          optimizer.zero_grad()                                     # 과거에 이용한 Mini-Batch내에 있는 이미지 데이터와 레이블 데이터를 바탕으로 계산된 Loss의 Gradient값이 optimizer에 할당되어 있으므로 optimizer의 Gradient 초기화\n",
    "          output = model(image)\n",
    "\n",
    "          with torch.set_grad_enabled(True):\n",
    "            loss = criterion(output, label)\n",
    "            loss.backward()                                           # Back propagation으로 계산된 Gradient 값을 각 parameter에 할당\n",
    "            optimizer.step()                                          # parameter update\n",
    "            prediction = output.max(1, keepdim = True)[1]             # predicted labels in tensor\n",
    "            \n",
    "            train_acc.update(prediction.eq(label.view_as(prediction)).sum().item()/BATCH_SIZE)\n",
    "            train_loss.update(loss.item())\n",
    "            \n",
    "            if batch_idx % log_interval == 0:                         # print log\n",
    "                print(\"Train Epoch: {} [{}/{}({:.0f}%)]\\tTrain Loss: {:.6f}\".format(Epoch, batch_idx * len(image), len(train_loader.dataset), 100. * batch_idx / len(train_loader), loss.item()))\n",
    "    \n",
    "    elif sam == True:\n",
    "      for batch_idx, (image, label) in enumerate(train_loader):\n",
    "          image = image.to(DEVICE)\n",
    "          label = label.to(DEVICE)\n",
    "\n",
    "          def closure():\n",
    "              optimizer.zero_grad()\n",
    "              output = model(image)\n",
    "              loss = criterion(output, label)\n",
    "              loss.backward()\n",
    "              return loss\n",
    "\n",
    "          loss = optimizer.step(closure)                      # parameter update\n",
    "          prediction = model(image).max(1, keepdim = True)[1]             # predicted labels in tensor\n",
    "            \n",
    "          train_acc.update(prediction.eq(label.view_as(prediction)).sum().item()/BATCH_SIZE)\n",
    "          train_loss.update(loss.item())\n",
    "          \n",
    "          if batch_idx % log_interval == 0:                         # print log\n",
    "              print(\"Train Epoch: {} [{}/{}({:.0f}%)]\\tTrain Loss: {:.6f}\".format(Epoch, batch_idx * len(image), len(train_loader.dataset), 100. * batch_idx / len(train_loader), loss.item()))  \n",
    "    \n",
    "    return train_loss.avg, train_acc.avg"
   ]
  },
  {
   "cell_type": "markdown",
   "metadata": {
    "id": "JbaLCP1yAgVt"
   },
   "source": [
    "# 13. Define Model Evaluating Function"
   ]
  },
  {
   "cell_type": "code",
   "execution_count": 18,
   "metadata": {
    "executionInfo": {
     "elapsed": 2,
     "status": "ok",
     "timestamp": 1670176762020,
     "user": {
      "displayName": "Jung Eun Huh",
      "userId": "03640047991845070515"
     },
     "user_tz": 0
    },
    "id": "RyOPOBaKAkfU"
   },
   "outputs": [],
   "source": [
    "def evaluate(model, test_loader):\n",
    "    model.eval()\n",
    "    \n",
    "    val_loss = AverageMeter()\n",
    "    val_acc = AverageMeter()\n",
    "    \n",
    "    with torch.no_grad():                                                     # 모델을 평가하는 단계에서는 Gradient를 통해 parameter값이 update되는 현상을 방지하기 위해 'torch.no_grad()' 메서드를 이용해 Gradient의 흐름을 억제\n",
    "        for image, label in val_loader:\n",
    "            image = image.to(DEVICE)\n",
    "            label = label.to(DEVICE)\n",
    "            output = model(image)\n",
    "            loss = criterion(output, label)\n",
    "            prediction = output.max(1, keepdim = True)[1]                     # output값 (prediction probability)가 가장 높은 index(class)로 예측\n",
    "    \n",
    "            val_acc.update(prediction.eq(label.view_as(prediction)).sum().item()/BATCH_SIZE)\n",
    "            val_loss.update(loss.item())\n",
    "    \n",
    "    return val_loss.avg, val_acc.avg   "
   ]
  },
  {
   "cell_type": "markdown",
   "metadata": {
    "id": "ZhkWQjufAl4p"
   },
   "source": [
    "# 14. Define Model Training Function"
   ]
  },
  {
   "cell_type": "code",
   "execution_count": 19,
   "metadata": {
    "executionInfo": {
     "elapsed": 2,
     "status": "ok",
     "timestamp": 1670158838033,
     "user": {
      "displayName": "Jung Eun Huh",
      "userId": "03640047991845070515"
     },
     "user_tz": 0
    },
    "id": "C7lEEcwnAn0A"
   },
   "outputs": [],
   "source": [
    "def startTrain(model, optimizer, opt):\n",
    "    best_val_acc = 0\n",
    "    best_val_loss = 100\n",
    "    epoch = 0\n",
    "    total_loss_train, total_acc_train = [],[]\n",
    "    total_loss_val, total_acc_val = [],[]\n",
    "\n",
    "    for Epoch in range(1, EPOCHS+1):\n",
    "        train_loss, train_acc = train(opt, model, train_loader, Epoch, optimizer, log_interval = 200)\n",
    "        total_acc_train.append(train_acc)\n",
    "        total_loss_train.append(train_loss)\n",
    "\n",
    "        val_loss, val_acc = evaluate(model, val_loader)\n",
    "        total_acc_val.append(val_acc)\n",
    "        total_loss_val.append(val_loss)\n",
    "        print(Epoch)\n",
    "        print(\"\\n[EPOCH: {}], \\tVal Loss: {:.4f}, \\tVal Accuracy: {:.2f} %\\n\".format(Epoch, val_loss, val_acc))\n",
    "        \n",
    "        # monitoring test accuracy\n",
    "        if val_acc > best_val_acc:\n",
    "            best_val_acc = val_acc\n",
    "            epoch = Epoch\n",
    "            print('*****************************************************')\n",
    "            print('best record: [epoch %d], [val loss %.5f], [val acc %.5f]' % (Epoch, val_loss, val_acc))\n",
    "            print('*****************************************************')\n",
    "        elif Epoch > epoch + TRAIN_PATIENCE:\n",
    "            break\n",
    "        \n",
    "        # # monitoring val loss\n",
    "\n",
    "        # if val_loss < best_val_loss:\n",
    "        #     best_val_loss = val_loss\n",
    "        #     epoch = Epoch\n",
    "        #     print('*****************************************************')\n",
    "        #     print('best record: [epoch %d], [val loss %.5f], [val acc %.5f]' % (Epoch, val_loss, val_acc))\n",
    "        #     print('*****************************************************')\n",
    "        # elif Epoch > epoch + TRAIN_PATIENCE:\n",
    "        #     break\n",
    "\n",
    "    return epoch, total_loss_train, total_acc_train, total_loss_val, total_acc_val, best_val_acc"
   ]
  },
  {
   "cell_type": "markdown",
   "metadata": {
    "id": "Aa5MPc-nI5Tv"
   },
   "source": [
    "# RUN"
   ]
  },
  {
   "cell_type": "markdown",
   "metadata": {
    "id": "4LkvgTPXzZIF"
   },
   "source": [
    "### Model Analysis / Selection"
   ]
  },
  {
   "cell_type": "code",
   "execution_count": 38,
   "metadata": {
    "executionInfo": {
     "elapsed": 282,
     "status": "ok",
     "timestamp": 1670145739842,
     "user": {
      "displayName": "Jung Eun Huh",
      "userId": "03640047991845070515"
     },
     "user_tz": 0
    },
    "id": "gN7vInTLbz7I"
   },
   "outputs": [],
   "source": [
    "# or https://github.com/rwightman/pytorch-image-models/blob/main/results/results-imagenet.csv\n",
    "def numParam(model):\n",
    "  return sum(p.numel() for p in model.parameters() if p.requires_grad)"
   ]
  },
  {
   "cell_type": "code",
   "execution_count": 105,
   "metadata": {
    "colab": {
     "base_uri": "https://localhost:8080/"
    },
    "executionInfo": {
     "elapsed": 3,
     "status": "ok",
     "timestamp": 1670151248821,
     "user": {
      "displayName": "Jung Eun Huh",
      "userId": "03640047991845070515"
     },
     "user_tz": 0
    },
    "id": "7iCIsVkNcNMU",
    "outputId": "e1997bbd-e99d-4066-d4bb-f64b90f46841"
   },
   "outputs": [
    {
     "data": {
      "text/plain": [
       "(4923514, 5524802)"
      ]
     },
     "execution_count": 105,
     "metadata": {},
     "output_type": "execute_result"
    }
   ],
   "source": [
    "numParam(resnet), numParam(vit) # resnet10t, vit_tiny_patch16_224"
   ]
  },
  {
   "cell_type": "markdown",
   "metadata": {
    "id": "e4fAHT-yzg9F"
   },
   "source": [
    "## RUN"
   ]
  },
  {
   "cell_type": "code",
   "execution_count": 20,
   "metadata": {
    "executionInfo": {
     "elapsed": 398,
     "status": "ok",
     "timestamp": 1670152007943,
     "user": {
      "displayName": "Jung Eun Huh",
      "userId": "03640047991845070515"
     },
     "user_tz": 0
    },
    "id": "1P_EfplwqY7q"
   },
   "outputs": [],
   "source": [
    "EPOCHS = 50"
   ]
  },
  {
   "cell_type": "code",
   "execution_count": 40,
   "metadata": {
    "colab": {
     "base_uri": "https://localhost:8080/"
    },
    "executionInfo": {
     "elapsed": 5844,
     "status": "ok",
     "timestamp": 1670176684274,
     "user": {
      "displayName": "Jung Eun Huh",
      "userId": "03640047991845070515"
     },
     "user_tz": 0
    },
    "id": "MkQTWX0rO_yE",
    "outputId": "78c60c70-6170-4b21-f725-e4b3d202d017"
   },
   "outputs": [
    {
     "name": "stdout",
     "output_type": "stream",
     "text": [
      "Looking in indexes: https://pypi.org/simple, https://us-python.pkg.dev/colab-wheels/public/simple/\n",
      "Collecting timm\n",
      "  Downloading timm-0.6.12-py3-none-any.whl (549 kB)\n",
      "\u001b[K     |████████████████████████████████| 549 kB 4.3 MB/s \n",
      "\u001b[?25hCollecting huggingface-hub\n",
      "  Downloading huggingface_hub-0.11.1-py3-none-any.whl (182 kB)\n",
      "\u001b[K     |████████████████████████████████| 182 kB 89.1 MB/s \n",
      "\u001b[?25hRequirement already satisfied: pyyaml in /usr/local/lib/python3.8/dist-packages (from timm) (6.0)\n",
      "Requirement already satisfied: torchvision in /usr/local/lib/python3.8/dist-packages (from timm) (0.13.1+cu113)\n",
      "Requirement already satisfied: torch>=1.7 in /usr/local/lib/python3.8/dist-packages (from timm) (1.12.1+cu113)\n",
      "Requirement already satisfied: typing-extensions in /usr/local/lib/python3.8/dist-packages (from torch>=1.7->timm) (4.1.1)\n",
      "Requirement already satisfied: packaging>=20.9 in /usr/local/lib/python3.8/dist-packages (from huggingface-hub->timm) (21.3)\n",
      "Requirement already satisfied: requests in /usr/local/lib/python3.8/dist-packages (from huggingface-hub->timm) (2.23.0)\n",
      "Requirement already satisfied: tqdm in /usr/local/lib/python3.8/dist-packages (from huggingface-hub->timm) (4.64.1)\n",
      "Requirement already satisfied: filelock in /usr/local/lib/python3.8/dist-packages (from huggingface-hub->timm) (3.8.0)\n",
      "Requirement already satisfied: pyparsing!=3.0.5,>=2.0.2 in /usr/local/lib/python3.8/dist-packages (from packaging>=20.9->huggingface-hub->timm) (3.0.9)\n",
      "Requirement already satisfied: urllib3!=1.25.0,!=1.25.1,<1.26,>=1.21.1 in /usr/local/lib/python3.8/dist-packages (from requests->huggingface-hub->timm) (1.24.3)\n",
      "Requirement already satisfied: chardet<4,>=3.0.2 in /usr/local/lib/python3.8/dist-packages (from requests->huggingface-hub->timm) (3.0.4)\n",
      "Requirement already satisfied: idna<3,>=2.5 in /usr/local/lib/python3.8/dist-packages (from requests->huggingface-hub->timm) (2.10)\n",
      "Requirement already satisfied: certifi>=2017.4.17 in /usr/local/lib/python3.8/dist-packages (from requests->huggingface-hub->timm) (2022.9.24)\n",
      "Requirement already satisfied: numpy in /usr/local/lib/python3.8/dist-packages (from torchvision->timm) (1.21.6)\n",
      "Requirement already satisfied: pillow!=8.3.*,>=5.3.0 in /usr/local/lib/python3.8/dist-packages (from torchvision->timm) (7.1.2)\n",
      "Installing collected packages: huggingface-hub, timm\n",
      "Successfully installed huggingface-hub-0.11.1 timm-0.6.12\n"
     ]
    }
   ],
   "source": [
    "!pip install timm"
   ]
  },
  {
   "cell_type": "code",
   "execution_count": 22,
   "metadata": {
    "collapsed": true,
    "jupyter": {
     "outputs_hidden": true
    }
   },
   "outputs": [
    {
     "name": "stdout",
     "output_type": "stream",
     "text": [
      "Cloning into 'sam.pytorch'...\n",
      "remote: Enumerating objects: 30, done.\u001b[K\n",
      "remote: Counting objects: 100% (30/30), done.\u001b[K\n",
      "remote: Compressing objects: 100% (25/25), done.\u001b[K\n",
      "remote: Total 30 (delta 13), reused 15 (delta 5), pack-reused 0\u001b[K\n",
      "Unpacking objects: 100% (30/30), done.\n"
     ]
    }
   ],
   "source": [
    "!git clone https://github.com/moskomule/sam.pytorch.git"
   ]
  },
  {
   "cell_type": "code",
   "execution_count": 27,
   "metadata": {
    "executionInfo": {
     "elapsed": 21,
     "status": "ok",
     "timestamp": 1670176688489,
     "user": {
      "displayName": "Jung Eun Huh",
      "userId": "03640047991845070515"
     },
     "user_tz": 0
    },
    "id": "Rx7WwteaSQmT"
   },
   "outputs": [],
   "source": [
    "from sampytorch.sam import SAMSGD \n",
    "import timm"
   ]
  },
  {
   "cell_type": "code",
   "execution_count": null,
   "metadata": {
    "colab": {
     "base_uri": "https://localhost:8080/"
    },
    "id": "0mXWbzywI8bg",
    "outputId": "640fa7ff-af21-4717-c370-202a53b24104"
   },
   "outputs": [
    {
     "name": "stdout",
     "output_type": "stream",
     "text": [
      "Architecture: resnet10t\n",
      "Optimizer: base\n",
      "Train Epoch: 1 [0/11889(0%)]\tTrain Loss: 0.654276\n",
      "Train Epoch: 1 [6400/11889(54%)]\tTrain Loss: 0.540590\n",
      "1\n",
      "\n",
      "[EPOCH: 1], \tVal Loss: 0.5550, \tVal Accuracy: 0.77 %\n",
      "\n",
      "*****************************************************\n",
      "best record: [epoch 1], [val loss 0.55498], [val acc 0.77061]\n",
      "*****************************************************\n",
      "Train Epoch: 2 [0/11889(0%)]\tTrain Loss: 0.559039\n",
      "Train Epoch: 2 [6400/11889(54%)]\tTrain Loss: 0.575963\n",
      "2\n",
      "\n",
      "[EPOCH: 2], \tVal Loss: 0.5188, \tVal Accuracy: 0.79 %\n",
      "\n",
      "*****************************************************\n",
      "best record: [epoch 2], [val loss 0.51884], [val acc 0.79388]\n",
      "*****************************************************\n",
      "Train Epoch: 3 [0/11889(0%)]\tTrain Loss: 0.485211\n",
      "Train Epoch: 3 [6400/11889(54%)]\tTrain Loss: 0.553062\n",
      "3\n",
      "\n",
      "[EPOCH: 3], \tVal Loss: 0.4966, \tVal Accuracy: 0.83 %\n",
      "\n",
      "*****************************************************\n",
      "best record: [epoch 3], [val loss 0.49661], [val acc 0.83178]\n",
      "*****************************************************\n",
      "Train Epoch: 4 [0/11889(0%)]\tTrain Loss: 0.457337\n",
      "Train Epoch: 4 [6400/11889(54%)]\tTrain Loss: 0.439815\n",
      "4\n",
      "\n",
      "[EPOCH: 4], \tVal Loss: 0.4811, \tVal Accuracy: 0.84 %\n",
      "\n",
      "*****************************************************\n",
      "best record: [epoch 4], [val loss 0.48110], [val acc 0.83777]\n",
      "*****************************************************\n",
      "Train Epoch: 5 [0/11889(0%)]\tTrain Loss: 0.523501\n",
      "Train Epoch: 5 [6400/11889(54%)]\tTrain Loss: 0.586725\n",
      "5\n",
      "\n",
      "[EPOCH: 5], \tVal Loss: 0.4703, \tVal Accuracy: 0.84 %\n",
      "\n",
      "*****************************************************\n",
      "best record: [epoch 5], [val loss 0.47028], [val acc 0.83976]\n",
      "*****************************************************\n",
      "Train Epoch: 6 [0/11889(0%)]\tTrain Loss: 0.634784\n",
      "Train Epoch: 6 [6400/11889(54%)]\tTrain Loss: 0.451929\n",
      "6\n",
      "\n",
      "[EPOCH: 6], \tVal Loss: 0.4624, \tVal Accuracy: 0.85 %\n",
      "\n",
      "*****************************************************\n",
      "best record: [epoch 6], [val loss 0.46239], [val acc 0.84774]\n",
      "*****************************************************\n",
      "Train Epoch: 7 [0/11889(0%)]\tTrain Loss: 0.515171\n",
      "Train Epoch: 7 [6400/11889(54%)]\tTrain Loss: 0.450801\n",
      "7\n",
      "\n",
      "[EPOCH: 7], \tVal Loss: 0.4602, \tVal Accuracy: 0.85 %\n",
      "\n",
      "*****************************************************\n",
      "best record: [epoch 7], [val loss 0.46024], [val acc 0.85372]\n",
      "*****************************************************\n",
      "Train Epoch: 8 [0/11889(0%)]\tTrain Loss: 0.500509\n",
      "Train Epoch: 8 [6400/11889(54%)]\tTrain Loss: 0.406650\n",
      "8\n",
      "\n",
      "[EPOCH: 8], \tVal Loss: 0.4625, \tVal Accuracy: 0.85 %\n",
      "\n",
      "Train Epoch: 9 [0/11889(0%)]\tTrain Loss: 0.477906\n",
      "Train Epoch: 9 [6400/11889(54%)]\tTrain Loss: 0.497818\n",
      "9\n",
      "\n",
      "[EPOCH: 9], \tVal Loss: 0.4448, \tVal Accuracy: 0.86 %\n",
      "\n",
      "*****************************************************\n",
      "best record: [epoch 9], [val loss 0.44485], [val acc 0.85904]\n",
      "*****************************************************\n",
      "Train Epoch: 10 [0/11889(0%)]\tTrain Loss: 0.587183\n",
      "Train Epoch: 10 [6400/11889(54%)]\tTrain Loss: 0.506182\n",
      "10\n",
      "\n",
      "[EPOCH: 10], \tVal Loss: 0.4422, \tVal Accuracy: 0.86 %\n",
      "\n",
      "*****************************************************\n",
      "best record: [epoch 10], [val loss 0.44218], [val acc 0.86436]\n",
      "*****************************************************\n",
      "Train Epoch: 11 [0/11889(0%)]\tTrain Loss: 0.465529\n",
      "Train Epoch: 11 [6400/11889(54%)]\tTrain Loss: 0.406245\n",
      "11\n",
      "\n",
      "[EPOCH: 11], \tVal Loss: 0.4376, \tVal Accuracy: 0.87 %\n",
      "\n",
      "*****************************************************\n",
      "best record: [epoch 11], [val loss 0.43764], [val acc 0.86769]\n",
      "*****************************************************\n",
      "Train Epoch: 12 [0/11889(0%)]\tTrain Loss: 0.377169\n",
      "Train Epoch: 12 [6400/11889(54%)]\tTrain Loss: 0.497209\n",
      "12\n",
      "\n",
      "[EPOCH: 12], \tVal Loss: 0.4348, \tVal Accuracy: 0.87 %\n",
      "\n",
      "*****************************************************\n",
      "best record: [epoch 12], [val loss 0.43485], [val acc 0.87035]\n",
      "*****************************************************\n",
      "Train Epoch: 13 [0/11889(0%)]\tTrain Loss: 0.491194\n",
      "Train Epoch: 13 [6400/11889(54%)]\tTrain Loss: 0.489826\n",
      "13\n",
      "\n",
      "[EPOCH: 13], \tVal Loss: 0.4322, \tVal Accuracy: 0.87 %\n",
      "\n",
      "*****************************************************\n",
      "best record: [epoch 13], [val loss 0.43217], [val acc 0.87234]\n",
      "*****************************************************\n",
      "Train Epoch: 14 [0/11889(0%)]\tTrain Loss: 0.506629\n",
      "Train Epoch: 14 [6400/11889(54%)]\tTrain Loss: 0.428398\n",
      "14\n",
      "\n",
      "[EPOCH: 14], \tVal Loss: 0.4389, \tVal Accuracy: 0.86 %\n",
      "\n",
      "Train Epoch: 15 [0/11889(0%)]\tTrain Loss: 0.411109\n",
      "Train Epoch: 15 [6400/11889(54%)]\tTrain Loss: 0.418497\n",
      "15\n",
      "\n",
      "[EPOCH: 15], \tVal Loss: 0.4249, \tVal Accuracy: 0.88 %\n",
      "\n",
      "*****************************************************\n",
      "best record: [epoch 15], [val loss 0.42493], [val acc 0.87633]\n",
      "*****************************************************\n",
      "Train Epoch: 16 [0/11889(0%)]\tTrain Loss: 0.418787\n",
      "Train Epoch: 16 [6400/11889(54%)]\tTrain Loss: 0.514930\n",
      "16\n",
      "\n",
      "[EPOCH: 16], \tVal Loss: 0.4248, \tVal Accuracy: 0.88 %\n",
      "\n",
      "*****************************************************\n",
      "best record: [epoch 16], [val loss 0.42477], [val acc 0.87899]\n",
      "*****************************************************\n",
      "Train Epoch: 17 [0/11889(0%)]\tTrain Loss: 0.392725\n",
      "Train Epoch: 17 [6400/11889(54%)]\tTrain Loss: 0.414115\n",
      "17\n",
      "\n",
      "[EPOCH: 17], \tVal Loss: 0.4251, \tVal Accuracy: 0.88 %\n",
      "\n",
      "Train Epoch: 18 [0/11889(0%)]\tTrain Loss: 0.407161\n",
      "Train Epoch: 18 [6400/11889(54%)]\tTrain Loss: 0.407485\n",
      "18\n",
      "\n",
      "[EPOCH: 18], \tVal Loss: 0.4195, \tVal Accuracy: 0.88 %\n",
      "\n",
      "*****************************************************\n",
      "best record: [epoch 18], [val loss 0.41954], [val acc 0.88165]\n",
      "*****************************************************\n",
      "Train Epoch: 19 [0/11889(0%)]\tTrain Loss: 0.433515\n",
      "Train Epoch: 19 [6400/11889(54%)]\tTrain Loss: 0.353169\n",
      "19\n",
      "\n",
      "[EPOCH: 19], \tVal Loss: 0.4202, \tVal Accuracy: 0.89 %\n",
      "\n",
      "Train Epoch: 20 [0/11889(0%)]\tTrain Loss: 0.337084\n",
      "Train Epoch: 20 [6400/11889(54%)]\tTrain Loss: 0.391847\n",
      "20\n",
      "\n",
      "[EPOCH: 20], \tVal Loss: 0.4161, \tVal Accuracy: 0.89 %\n",
      "\n",
      "*****************************************************\n",
      "best record: [epoch 20], [val loss 0.41615], [val acc 0.88896]\n",
      "*****************************************************\n",
      "Train Epoch: 21 [0/11889(0%)]\tTrain Loss: 0.462301\n",
      "Train Epoch: 21 [6400/11889(54%)]\tTrain Loss: 0.395653\n",
      "21\n",
      "\n",
      "[EPOCH: 21], \tVal Loss: 0.4209, \tVal Accuracy: 0.88 %\n",
      "\n",
      "Train Epoch: 22 [0/11889(0%)]\tTrain Loss: 0.444826\n",
      "Train Epoch: 22 [6400/11889(54%)]\tTrain Loss: 0.454779\n",
      "22\n",
      "\n",
      "[EPOCH: 22], \tVal Loss: 0.4144, \tVal Accuracy: 0.89 %\n",
      "\n",
      "*****************************************************\n",
      "best record: [epoch 22], [val loss 0.41439], [val acc 0.88830]\n",
      "*****************************************************\n",
      "Train Epoch: 23 [0/11889(0%)]\tTrain Loss: 0.450486\n",
      "Train Epoch: 23 [6400/11889(54%)]\tTrain Loss: 0.369266\n",
      "23\n",
      "\n",
      "[EPOCH: 23], \tVal Loss: 0.4118, \tVal Accuracy: 0.89 %\n",
      "\n",
      "*****************************************************\n",
      "best record: [epoch 23], [val loss 0.41176], [val acc 0.89229]\n",
      "*****************************************************\n",
      "Train Epoch: 24 [0/11889(0%)]\tTrain Loss: 0.380352\n",
      "Train Epoch: 24 [6400/11889(54%)]\tTrain Loss: 0.415217\n",
      "24\n",
      "\n",
      "[EPOCH: 24], \tVal Loss: 0.4079, \tVal Accuracy: 0.89 %\n",
      "\n",
      "*****************************************************\n",
      "best record: [epoch 24], [val loss 0.40786], [val acc 0.89428]\n",
      "*****************************************************\n",
      "Train Epoch: 25 [0/11889(0%)]\tTrain Loss: 0.402575\n",
      "Train Epoch: 25 [6400/11889(54%)]\tTrain Loss: 0.438388\n",
      "25\n",
      "\n",
      "[EPOCH: 25], \tVal Loss: 0.4073, \tVal Accuracy: 0.90 %\n",
      "\n",
      "*****************************************************\n",
      "best record: [epoch 25], [val loss 0.40726], [val acc 0.89561]\n",
      "*****************************************************\n",
      "Train Epoch: 26 [0/11889(0%)]\tTrain Loss: 0.445359\n",
      "Train Epoch: 26 [6400/11889(54%)]\tTrain Loss: 0.420313\n",
      "26\n",
      "\n",
      "[EPOCH: 26], \tVal Loss: 0.4083, \tVal Accuracy: 0.90 %\n",
      "\n",
      "Train Epoch: 27 [0/11889(0%)]\tTrain Loss: 0.398474\n",
      "Train Epoch: 27 [6400/11889(54%)]\tTrain Loss: 0.368565\n",
      "27\n",
      "\n",
      "[EPOCH: 27], \tVal Loss: 0.4069, \tVal Accuracy: 0.89 %\n",
      "\n",
      "*****************************************************\n",
      "best record: [epoch 27], [val loss 0.40695], [val acc 0.89362]\n",
      "*****************************************************\n",
      "Train Epoch: 28 [0/11889(0%)]\tTrain Loss: 0.435689\n",
      "Train Epoch: 28 [6400/11889(54%)]\tTrain Loss: 0.411805\n",
      "28\n",
      "\n",
      "[EPOCH: 28], \tVal Loss: 0.4069, \tVal Accuracy: 0.89 %\n",
      "\n",
      "*****************************************************\n",
      "best record: [epoch 28], [val loss 0.40694], [val acc 0.89495]\n",
      "*****************************************************\n",
      "Train Epoch: 29 [0/11889(0%)]\tTrain Loss: 0.437555\n",
      "Train Epoch: 29 [6400/11889(54%)]\tTrain Loss: 0.376957\n",
      "29\n",
      "\n",
      "[EPOCH: 29], \tVal Loss: 0.4052, \tVal Accuracy: 0.90 %\n",
      "\n",
      "*****************************************************\n",
      "best record: [epoch 29], [val loss 0.40518], [val acc 0.89628]\n",
      "*****************************************************\n",
      "Train Epoch: 30 [0/11889(0%)]\tTrain Loss: 0.429318\n"
     ]
    }
   ],
   "source": [
    "from sampytorch.sam import SAMSGD \n",
    "import timm\n",
    "\n",
    "REPEAT = 5\n",
    "models = ['resnet10t', 'vit_tiny_patch16_224']\n",
    "optims = ['base', 'sam'] #SGD\n",
    "lrs = [0.00001, 0.0001, 0.001]\n",
    "\n",
    "# resnet = timm.create_model('resnet50', pretrained=False) # Param 23512130 / 25.56\n",
    "# resnet = timm.create_model('resnet18', pretrained=False) # Param 11177538 / 11.69\n",
    "resnet = timm.create_model('resnet10t', pretrained=False) # Param 4923514 / 5.44\n",
    "num_ftrs = resnet.fc.in_features\n",
    "resnet.fc = nn.Linear(num_ftrs,CLASS_NUM)\n",
    "resnet.fc = nn.Sequential(resnet.fc, nn.Softmax(),)\n",
    "\n",
    "# vit = timm.create_model('vit_small_patch32_224', pretrained=False) # Param 22494722 / 22.88\n",
    "vit = timm.create_model('vit_tiny_patch16_224', pretrained=False) # Param 5524802 / 5.72\n",
    "num_ftrs = vit.head.in_features\n",
    "vit.head = nn.Linear(num_ftrs,CLASS_NUM)\n",
    "vit.head = nn.Sequential(vit.head, nn.Softmax(),)\n",
    "\n",
    "for LR in lrs:\n",
    "  for _ in range(REPEAT):\n",
    "    for arch in models:\n",
    "      print(f'Architecture: {arch}')\n",
    "\n",
    "      if arch[:6] == 'resnet':\n",
    "        model = resnet.to(DEVICE)\n",
    "\n",
    "      elif arch[:3] == 'vit':\n",
    "        model = vit.to(DEVICE)\n",
    "\n",
    "      else: print('엥 이게 뭐람')\n",
    "\n",
    "      criterion = nn.CrossEntropyLoss()\n",
    "\n",
    "      for optim in optims:\n",
    "        print(f'Optimizer: {optim}')\n",
    "        try:\n",
    "          os.makedirs(f'/content/drive/MyDrive/Colab Notebooks/saved-models/{arch}/{optim}/{LR}/')\n",
    "        except FileExistsError : pass\n",
    "\n",
    "        if optim == 'base':\n",
    "          opt = False\n",
    "          optimizer = torch.optim.SGD(model.parameters(), lr = LR, momentum=0.05)\n",
    "\n",
    "        elif optim == 'sam':\n",
    "          opt = True\n",
    "          optimizer = SAMSGD(model.parameters(),lr=LR, rho=0.05) # -- for SGD\n",
    "        \n",
    "        epoch, total_loss_train, total_acc_train, total_loss_val, total_acc_val = startTrain(model, optimizer, opt)\n",
    "        PATH = \"./saved-models/{arch}/{optim}/{LR}/model-epoch{epoch:02d}-loss_val{loss_val:.2f}-acc_val{acc_val:.2f}.pt\".format(arch = arch, optim = optim, LR = LR, epoch = epoch, loss_val = total_loss_val[epoch-1] , acc_val = total_acc_val[epoch-1])\n",
    "\n",
    "        torch.save({\n",
    "                    'epoch': epoch,\n",
    "                    'model_state_dict': model.state_dict(), # trained parameters\n",
    "                    'optimizer_state_dict': optimizer.state_dict(), # this contains buffers and parameters that are updated as the model trains\n",
    "                    'accuracy':best_val_acc, \n",
    "                    'loss': best_val_loss,\n",
    "                    'total_loss_train':total_loss_train,\n",
    "                    'total_acc_train':total_acc_train,\n",
    "                    'total_loss_val':total_loss_val,\n",
    "                    'total_acc_val':total_acc_val,\n",
    "                    }, PATH)\n",
    "        \n",
    "        print(f'Saved {arch} model with {optim} optimizer to {PATH}')"
   ]
  },
  {
   "cell_type": "code",
   "execution_count": null,
   "metadata": {
    "id": "T0gbpPWn0L0s"
   },
   "outputs": [],
   "source": [
    "from sampytorch.sam import SAMSGD \n",
    "import timm\n",
    "\n",
    "REPEAT = 5\n",
    "models = ['resnet50', 'vit_small_patch32_224']\n",
    "optims = ['base', 'sam'] #SGD\n",
    "lrs = [0.00001, 0.0001, 0.001]\n",
    "\n",
    "resnet = timm.create_model('resnet50', pretrained=False) # Param 23512130 / 25.56\n",
    "# resnet = timm.create_model('resnet18', pretrained=False) # Param 11177538 / 11.69\n",
    "# resnet = timm.create_model('resnet10t', pretrained=False) # Param 4923514 / 5.44\n",
    "num_ftrs = resnet.fc.in_features\n",
    "resnet.fc = nn.Linear(num_ftrs,CLASS_NUM)\n",
    "resnet.fc = nn.Sequential(resnet.fc, nn.Softmax(),)\n",
    "\n",
    "vit = timm.create_model('vit_small_patch32_224', pretrained=False) # Param 22494722 / 22.88\n",
    "# vit = timm.create_model('vit_tiny_patch16_224', pretrained=False) # Param 5524802 / 5.72\n",
    "num_ftrs = vit.head.in_features\n",
    "vit.head = nn.Linear(num_ftrs,CLASS_NUM)\n",
    "vit.head = nn.Sequential(vit.head, nn.Softmax(),)\n",
    "\n",
    "\n",
    "for LR in lrs:\n",
    "  for _ in range(REPEAT):\n",
    "    for arch in models:\n",
    "      print(f'Architecture: {arch}')\n",
    "\n",
    "      if arch[:6] == 'resnet':\n",
    "        model = resnet.to(DEVICE)\n",
    "\n",
    "      elif arch[:3] == 'vit':\n",
    "        model = vit.to(DEVICE)\n",
    "\n",
    "      else: print('엥 이게 뭐람')\n",
    "\n",
    "      criterion = nn.CrossEntropyLoss()\n",
    "\n",
    "      for optim in optims:\n",
    "        print(f'Optimizer: {optim}')\n",
    "        try:\n",
    "          os.makedirs(f'/content/drive/MyDrive/Colab Notebooks/saved-models/{arch}/{optim}/{LR}/')\n",
    "        except FileExistsError : pass\n",
    "\n",
    "        if optim == 'base':\n",
    "          opt = False\n",
    "          optimizer = torch.optim.Adam(model.parameters(), lr = LR)\n",
    "\n",
    "        elif optim == 'sam':\n",
    "          opt = True\n",
    "          optimizer = SAMSGD(model.parameters(),lr=LR, rho=0.05) # -- for SGD\n",
    "        \n",
    "        epoch, total_loss_train, total_acc_train, total_loss_val, total_acc_val = startTrain(model, optimizer, opt)\n",
    "        PATH = \"./saved-models/{arch}/{optim}/{LR}/model-epoch{epoch:02d}-loss_val{loss_val:.2f}-acc_val{acc_val:.2f}.pt\".format(arch = arch, optim = optim, LR = LR, epoch = epoch, loss_val = total_loss_val[epoch-1] , acc_val = total_acc_val[epoch-1])\n",
    "\n",
    "        torch.save({\n",
    "                    'epoch': epoch,\n",
    "                    'model_state_dict': model.state_dict(), # trained parameters\n",
    "                    'optimizer_state_dict': optimizer.state_dict(), # this contains buffers and parameters that are updated as the model trains\n",
    "                    'accuracy':best_val_acc, \n",
    "                    'loss': best_val_loss,\n",
    "                    'total_loss_train':total_loss_train,\n",
    "                    'total_acc_train':total_acc_train,\n",
    "                    'total_loss_val':total_loss_val,\n",
    "                    'total_acc_val':total_acc_val,\n",
    "                    }, PATH)\n",
    "        \n",
    "        print(f'Saved {arch} model with {optim} optimizer to {PATH}')"
   ]
  },
  {
   "cell_type": "markdown",
   "metadata": {
    "id": "W38aQ55zMnV3"
   },
   "source": [
    "## LOAD MODEL"
   ]
  },
  {
   "cell_type": "code",
   "execution_count": 42,
   "metadata": {
    "executionInfo": {
     "elapsed": 851,
     "status": "ok",
     "timestamp": 1670176704221,
     "user": {
      "displayName": "Jung Eun Huh",
      "userId": "03640047991845070515"
     },
     "user_tz": 0
    },
    "id": "uDwdcio-v93s"
   },
   "outputs": [],
   "source": [
    "# resnet = timm.create_model('resnet50', pretrained=False) # Param 23512130 / 25.56\n",
    "# resnet = timm.create_model('resnet18', pretrained=False) # Param 11177538 / 11.69\n",
    "resnet = timm.create_model('resnet10t', pretrained=False) # Param 4923514 / 5.44\n",
    "num_ftrs = resnet.fc.in_features\n",
    "resnet.fc = nn.Linear(num_ftrs,CLASS_NUM)\n",
    "resnet.fc = nn.Sequential(resnet.fc, nn.Softmax(),)\n",
    "\n",
    "# vit = timm.create_model('vit_small_patch32_224', pretrained=False) # Param 22494722 / 22.88\n",
    "vit = timm.create_model('vit_tiny_patch16_224', pretrained=False) # Param 5524802 / 5.72\n",
    "num_ftrs = vit.head.in_features\n",
    "vit.head = nn.Linear(num_ftrs,CLASS_NUM)\n",
    "vit.head = nn.Sequential(vit.head, nn.Softmax(),)"
   ]
  },
  {
   "cell_type": "code",
   "execution_count": 43,
   "metadata": {
    "executionInfo": {
     "elapsed": 3537,
     "status": "ok",
     "timestamp": 1670176722972,
     "user": {
      "displayName": "Jung Eun Huh",
      "userId": "03640047991845070515"
     },
     "user_tz": 0
    },
    "id": "Vm4vclqIwOMN"
   },
   "outputs": [],
   "source": [
    "path = '/content/drive/MyDrive/Colab Notebooks/saved-models/resnet10t/base/model-epoch16-loss_val0.39-acc_val0.91.pt'\n",
    "model = resnet.to(DEVICE)\n",
    "\n",
    "#base\n",
    "optimizer = torch.optim.Adam(model.parameters(), lr = LR)\n",
    "# #sam\n",
    "# optimizer = SAMSGD(model.parameters(),lr=LR, rho=0.05) # -- for SGD\n"
   ]
  },
  {
   "cell_type": "code",
   "execution_count": null,
   "metadata": {
    "id": "MWEuI0P9v0NS"
   },
   "outputs": [],
   "source": [
    "checkpoint = torch.load(path)\n",
    "model.load_state_dict(checkpoint['model_state_dict'])\n",
    "optimizer.load_state_dict(checkpoint['optimizer_state_dict'])\n",
    "epoch = checkpoint['epoch']\n",
    "accuracy = checkpoint['accuracy']\n",
    "# loss = checkpoint['loss']\n",
    "total_loss_train = checkpoint['total_loss_train']\n",
    "total_acc_train = checkpoint['total_acc_train']\n",
    "total_loss_val = checkpoint['total_loss_val']\n",
    "total_acc_val = checkpoint['total_acc_val']\n",
    "\n",
    "model.eval()"
   ]
  },
  {
   "cell_type": "markdown",
   "metadata": {
    "id": "R7XqjvbXypqb"
   },
   "source": [
    "## EVALUATE"
   ]
  },
  {
   "cell_type": "code",
   "execution_count": 45,
   "metadata": {
    "colab": {
     "base_uri": "https://localhost:8080/",
     "height": 285
    },
    "executionInfo": {
     "elapsed": 8,
     "status": "ok",
     "timestamp": 1670176735072,
     "user": {
      "displayName": "Jung Eun Huh",
      "userId": "03640047991845070515"
     },
     "user_tz": 0
    },
    "id": "gLANFr_kv0vL",
    "outputId": "fbeb5c91-6ff0-41a0-ec17-aebcbb40c5d4"
   },
   "outputs": [
    {
     "data": {
      "image/png": "[encoded data removed]",
      "text/plain": [
       "<Figure size 432x288 with 2 Axes>"
      ]
     },
     "metadata": {
      "needs_background": "light"
     },
     "output_type": "display_data"
    },
    {
     "name": "stdout",
     "output_type": "stream",
     "text": [
      "0.3880617168355495 0.9115691489361702\n"
     ]
    }
   ],
   "source": [
    "fig = plt.figure(num = 2)\n",
    "fig1 = fig.add_subplot(2,1,1)\n",
    "fig2 = fig.add_subplot(2,1,2)\n",
    "fig1.plot(total_loss_train, label = 'training loss')\n",
    "fig1.plot(total_loss_val, label = 'test loss')\n",
    "fig2.plot(total_acc_train, label = 'training accuracy')\n",
    "fig2.plot(total_acc_val, label = 'test accuracy')\n",
    "plt.legend()\n",
    "plt.show()\n",
    "\n",
    "print(min(total_loss_val), max(total_acc_val))"
   ]
  },
  {
   "cell_type": "code",
   "execution_count": 49,
   "metadata": {
    "colab": {
     "base_uri": "https://localhost:8080/",
     "height": 253
    },
    "executionInfo": {
     "elapsed": 4,
     "status": "error",
     "timestamp": 1670176766280,
     "user": {
      "displayName": "Jung Eun Huh",
      "userId": "03640047991845070515"
     },
     "user_tz": 0
    },
    "id": "hoNUMCptw71c",
    "outputId": "3bcf4a62-5017-4801-a4ea-95da24bfabe8"
   },
   "outputs": [
    {
     "ename": "NameError",
     "evalue": "ignored",
     "output_type": "error",
     "traceback": [
      "\u001b[0;31m---------------------------------------------------------------------------\u001b[0m",
      "\u001b[0;31mNameError\u001b[0m                                 Traceback (most recent call last)",
      "\u001b[0;32m<ipython-input-49-8fd1a9c62742>\u001b[0m in \u001b[0;36m<module>\u001b[0;34m\u001b[0m\n\u001b[1;32m      9\u001b[0m \u001b[0;34m\u001b[0m\u001b[0m\n\u001b[1;32m     10\u001b[0m \u001b[0;32mwith\u001b[0m \u001b[0mtorch\u001b[0m\u001b[0;34m.\u001b[0m\u001b[0mno_grad\u001b[0m\u001b[0;34m(\u001b[0m\u001b[0;34m)\u001b[0m\u001b[0;34m:\u001b[0m                                                     \u001b[0;31m# 모델을 평가하는 단계에서는 Gradient를 통해 parameter값이 update되는 현상을 방지하기 위해 'torch.no_grad()' 메서드를 이용해 Gradient의 흐름을 억제\u001b[0m\u001b[0;34m\u001b[0m\u001b[0;34m\u001b[0m\u001b[0m\n\u001b[0;32m---> 11\u001b[0;31m     \u001b[0;32mfor\u001b[0m \u001b[0mimage\u001b[0m\u001b[0;34m,\u001b[0m \u001b[0mlabel\u001b[0m \u001b[0;32min\u001b[0m \u001b[0mtest_loader\u001b[0m\u001b[0;34m:\u001b[0m\u001b[0;34m\u001b[0m\u001b[0;34m\u001b[0m\u001b[0m\n\u001b[0m\u001b[1;32m     12\u001b[0m         \u001b[0mimage\u001b[0m \u001b[0;34m=\u001b[0m \u001b[0mimage\u001b[0m\u001b[0;34m.\u001b[0m\u001b[0mto\u001b[0m\u001b[0;34m(\u001b[0m\u001b[0mDEVICE\u001b[0m\u001b[0;34m)\u001b[0m\u001b[0;34m\u001b[0m\u001b[0;34m\u001b[0m\u001b[0m\n\u001b[1;32m     13\u001b[0m         \u001b[0mlabel\u001b[0m \u001b[0;34m=\u001b[0m \u001b[0mlabel\u001b[0m\u001b[0;34m.\u001b[0m\u001b[0mto\u001b[0m\u001b[0;34m(\u001b[0m\u001b[0mDEVICE\u001b[0m\u001b[0;34m)\u001b[0m\u001b[0;34m\u001b[0m\u001b[0;34m\u001b[0m\u001b[0m\n",
      "\u001b[0;31mNameError\u001b[0m: name 'test_loader' is not defined"
     ]
    }
   ],
   "source": [
    "true_labels = []\n",
    "predicted_labels = []\n",
    "predicted_values = []\n",
    "\n",
    "model.eval()\n",
    "    \n",
    "test_loss = AverageMeter()\n",
    "test_acc = AverageMeter()\n",
    "\n",
    "with torch.no_grad():                                                     # 모델을 평가하는 단계에서는 Gradient를 통해 parameter값이 update되는 현상을 방지하기 위해 'torch.no_grad()' 메서드를 이용해 Gradient의 흐름을 억제\n",
    "    for image, label in test_loader:\n",
    "        image = image.to(DEVICE)\n",
    "        label = label.to(DEVICE)\n",
    "        output = model(image)\n",
    "        loss = criterion(output, label)\n",
    "        prediction = output.max(1, keepdim = True)[1]                     # output값 (prediction probability)가 가장 높은 index(class)로 예측\n",
    "        \n",
    "        true_labels.append(label)\n",
    "        predicted_labels.append(prediction)\n",
    "        predicted_values.append(output)\n",
    "        \n",
    "        test_acc.update(prediction.eq(label.view_as(prediction)).sum().item()/BATCH_SIZE)\n",
    "        test_loss.update(loss.item())\n",
    "        \n",
    "test_loss.avg, test_acc.avg"
   ]
  },
  {
   "cell_type": "code",
   "execution_count": 115,
   "metadata": {
    "colab": {
     "base_uri": "https://localhost:8080/",
     "height": 312
    },
    "executionInfo": {
     "elapsed": 5,
     "status": "ok",
     "timestamp": 1670151717237,
     "user": {
      "displayName": "Jung Eun Huh",
      "userId": "03640047991845070515"
     },
     "user_tz": 0
    },
    "id": "z9Uy61Y7ysQR",
    "outputId": "dd7a8cac-2594-4a4e-ede9-2fc48828774e"
   },
   "outputs": [
    {
     "name": "stdout",
     "output_type": "stream",
     "text": [
      "0.9189030321923957\n"
     ]
    },
    {
     "data": {
      "image/png": "[encoded data removed]",
      "text/plain": [
       "<Figure size 432x288 with 1 Axes>"
      ]
     },
     "metadata": {
      "needs_background": "light"
     },
     "output_type": "display_data"
    }
   ],
   "source": [
    "## ROC Curve / AUC ##\n",
    "\n",
    "# tensor to array form\n",
    "true_test_lst = []\n",
    "predicted_test_lst = []\n",
    "predicted_value_lst = []\n",
    "\n",
    "for i in range(len(test_loader)):\n",
    "    t_labels = true_labels[i].cpu().numpy()\n",
    "    true_test_lst += list(t_labels)\n",
    "    \n",
    "    p_labels = predicted_labels[i].cpu().numpy()[:,0]\n",
    "    predicted_test_lst += list(p_labels)\n",
    "    \n",
    "    p_values = predicted_values[i].cpu().numpy()\n",
    "    predicted_value_lst += list(p_values)\n",
    "    \n",
    "true_test_arr = np.array(true_test_lst)\n",
    "predicted_test_arr = np.array(predicted_test_lst)\n",
    "predicted_value_arr = np.array([list(arr) for arr in predicted_value_lst])\n",
    "    \n",
    "true_test_arr[:20], predicted_test_arr[:20], predicted_value_arr[:20]\n",
    "\n",
    "# roc curve for classes\n",
    "\n",
    "fpr = {}\n",
    "tpr = {}\n",
    "thresh ={}\n",
    "\n",
    "n_class = 2\n",
    "\n",
    "for i in range(n_class):    \n",
    "    fpr[i], tpr[i], thresh[i] = roc_curve(true_test_arr == i, predicted_value_arr[:, i])\n",
    "    \n",
    "# plotting\n",
    "plt.plot(fpr[1], tpr[1], linestyle='--',color='blue', label='Positive: Opacity / Negative: Normal') # Sensitivity: 비정상 중에 비정상으로 predict된 비율 / Specificity: 정상 중에 정상으로 predict된 비율\n",
    "plt.title('ROC curve')\n",
    "plt.xlabel('1-Specificity')\n",
    "plt.ylabel('Sensitivity')\n",
    "plt.legend(loc='best') \n",
    "\n",
    "print(auc(fpr[1], tpr[1]))\n"
   ]
  },
  {
   "cell_type": "code",
   "execution_count": null,
   "metadata": {
    "id": "-tNBY0Pty-Wo"
   },
   "outputs": [],
   "source": []
  }
 ],
 "metadata": {
  "accelerator": "GPU",
  "colab": {
   "authorship_tag": "ABX9TyNABH4sgQ7s7rLu2HZul+0A",
   "collapsed_sections": [
    "vQsp746L_NTe",
    "23U0J_tK_XGv",
    "BYe0zLuQ_gdd",
    "yGxlSaFMACMC"
   ],
   "machine_shape": "hm",
   "mount_file_id": "1pn53EqOtbqyhW9-4Oj5ZFht68ZGOwOWV",
   "provenance": [
    {
     "file_id": "1pn53EqOtbqyhW9-4Oj5ZFht68ZGOwOWV",
     "timestamp": 1670139368362
    }
   ]
  },
  "gpuClass": "premium",
  "kernelspec": {
   "display_name": "Python 3",
   "language": "python",
   "name": "python3"
  },
  "language_info": {
   "codemirror_mode": {
    "name": "ipython",
    "version": 3
   },
   "file_extension": ".py",
   "mimetype": "text/x-python",
   "name": "python",
   "nbconvert_exporter": "python",
   "pygments_lexer": "ipython3",
   "version": "3.6.9"
  }
 },
 "nbformat": 4,
 "nbformat_minor": 4
}
